{
 "cells": [
  {
   "cell_type": "code",
   "execution_count": 1,
   "metadata": {},
   "outputs": [
    {
     "name": "stderr",
     "output_type": "stream",
     "text": [
      "INFO - 2022-06-10 14:06:13,289 - utils - NumExpr defaulting to 8 threads.\n"
     ]
    }
   ],
   "source": [
    "import open3d as o3d\n",
    "import numpy as np\n",
    "from open3d import JVisualizer"
   ]
  },
  {
   "cell_type": "markdown",
   "metadata": {},
   "source": [
    "## initialize pointcloud"
   ]
  },
  {
   "cell_type": "code",
   "execution_count": 2,
   "metadata": {},
   "outputs": [
    {
     "name": "stdout",
     "output_type": "stream",
     "text": [
      "Load a ply point cloud, print it, and render it\n",
      "PointCloud with 763197 points.\n",
      "[[4.08999822e+05 3.66011002e+06 9.68980257e-01]\n",
      " [4.08999822e+05 3.66011002e+06 9.67625234e-01]\n",
      " [4.08999823e+05 3.66011002e+06 9.68881995e-01]\n",
      " ...\n",
      " [4.09000147e+05 3.66010984e+06 1.01390742e+00]\n",
      " [4.08999964e+05 3.66010968e+06 1.05247449e+00]\n",
      " [4.09000147e+05 3.66010984e+06 1.01358821e+00]]\n"
     ]
    }
   ],
   "source": [
    "filePath = \"combined_multiway_registered.ply\"\n",
    "\n",
    "print(\"Load a ply point cloud, print it, and render it\")\n",
    "\n",
    "pcd = o3d.io.read_point_cloud(filePath)\n",
    "print(pcd)\n",
    "print(np.asarray(pcd.points))\n",
    "\n"
   ]
  },
  {
   "cell_type": "markdown",
   "metadata": {},
   "source": [
    "## set the center to the origin"
   ]
  },
  {
   "cell_type": "code",
   "execution_count": 3,
   "metadata": {},
   "outputs": [
    {
     "name": "stdout",
     "output_type": "stream",
     "text": [
      "[[-0.17312368  0.22899821 -0.04636102]\n",
      " [-0.17317208  0.22561776 -0.04771604]\n",
      " [-0.17215608  0.23071197 -0.04645928]\n",
      " ...\n",
      " [ 0.15169685  0.04754396 -0.00143385]\n",
      " [-0.03131849 -0.11393154  0.03713321]\n",
      " [ 0.15140893  0.04500815 -0.00175307]]\n"
     ]
    }
   ],
   "source": [
    "pcd.translate((0, 0, 0), relative = False)\n",
    "print(np.asarray(pcd.points))\n"
   ]
  },
  {
   "cell_type": "markdown",
   "metadata": {},
   "source": [
    "## visualize it"
   ]
  },
  {
   "cell_type": "code",
   "execution_count": 4,
   "metadata": {},
   "outputs": [
    {
     "data": {
      "application/vnd.jupyter.widget-view+json": {
       "model_id": "b23ad557bb144e9abf338506c9e4763e",
       "version_major": 2,
       "version_minor": 0
      },
      "text/plain": [
       "JVisualizer with 1 geometries"
      ]
     },
     "metadata": {},
     "output_type": "display_data"
    }
   ],
   "source": [
    "# visualize the shifted pointcloud\n",
    "visualizer = JVisualizer()\n",
    "visualizer.add_geometry(pcd)\n",
    "visualizer.show()"
   ]
  },
  {
   "cell_type": "code",
   "execution_count": null,
   "metadata": {},
   "outputs": [],
   "source": []
  }
 ],
 "metadata": {
  "interpreter": {
   "hash": "6bcb19db60d66f9d62c34c6216b82f2056eb3d0b3cb7832f93ea766b2126bef6"
  },
  "kernelspec": {
   "display_name": "Python 3.8.13 ('pointcloud')",
   "language": "python",
   "name": "python3"
  },
  "language_info": {
   "codemirror_mode": {
    "name": "ipython",
    "version": 3
   },
   "file_extension": ".py",
   "mimetype": "text/x-python",
   "name": "python",
   "nbconvert_exporter": "python",
   "pygments_lexer": "ipython3",
   "version": "3.8.13"
  },
  "orig_nbformat": 4
 },
 "nbformat": 4,
 "nbformat_minor": 2
}
