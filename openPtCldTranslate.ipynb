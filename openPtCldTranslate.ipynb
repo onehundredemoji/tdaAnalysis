{
 "cells": [
  {
   "cell_type": "code",
   "execution_count": 1,
   "metadata": {},
   "outputs": [
    {
     "name": "stderr",
     "output_type": "stream",
     "text": [
      "INFO - 2022-06-10 13:41:24,066 - utils - NumExpr defaulting to 8 threads.\n"
     ]
    }
   ],
   "source": [
    "import open3d as o3d\n",
    "import numpy as np\n",
    "from open3d import JVisualizer"
   ]
  },
  {
   "cell_type": "markdown",
   "metadata": {},
   "source": [
    "## initialize pointcloud"
   ]
  },
  {
   "cell_type": "code",
   "execution_count": 2,
   "metadata": {},
   "outputs": [
    {
     "name": "stdout",
     "output_type": "stream",
     "text": [
      "Load a ply point cloud, print it, and render it\n",
      "PointCloud with 763197 points.\n",
      "[[4.08999822e+05 3.66011002e+06 9.68980257e-01]\n",
      " [4.08999822e+05 3.66011002e+06 9.67625234e-01]\n",
      " [4.08999823e+05 3.66011002e+06 9.68881995e-01]\n",
      " ...\n",
      " [4.09000147e+05 3.66010984e+06 1.01390742e+00]\n",
      " [4.08999964e+05 3.66010968e+06 1.05247449e+00]\n",
      " [4.09000147e+05 3.66010984e+06 1.01358821e+00]]\n"
     ]
    },
    {
     "data": {
      "application/vnd.jupyter.widget-view+json": {
       "model_id": "331894cece84439986c0c3d56819902d",
       "version_major": 2,
       "version_minor": 0
      },
      "text/plain": [
       "JVisualizer with 1 geometries"
      ]
     },
     "metadata": {},
     "output_type": "display_data"
    }
   ],
   "source": [
    "filePath = \"combined_multiway_registered.ply\"\n",
    "\n",
    "print(\"Load a ply point cloud, print it, and render it\")\n",
    "\n",
    "pcd = o3d.io.read_point_cloud(filePath)\n",
    "print(pcd)\n",
    "print(np.asarray(pcd.points))\n",
    "\n"
   ]
  },
  {
   "cell_type": "markdown",
   "metadata": {},
   "source": [
    "## get the minimum of each dimension"
   ]
  },
  {
   "cell_type": "code",
   "execution_count": 3,
   "metadata": {},
   "outputs": [
    {
     "name": "stdout",
     "output_type": "stream",
     "text": [
      "finding minimums to move cloud to origin\n",
      "minimums [x, y, z]: [408999.822248412, 3660109.536540864, 0.9442215240273981]\n"
     ]
    }
   ],
   "source": [
    "data = np.asarray(pcd.points)\n",
    "print(\"finding minimums to move cloud to origin\")\n",
    "# get an array of all min values in each dimension [minX, minY, minZ]\n",
    "minArr = []\n",
    "for dim in range(3):\n",
    "    thisMin = data[0][dim]\n",
    "    for point in data:\n",
    "        thisMinCurr = point[dim]\n",
    "        if thisMinCurr < thisMin:\n",
    "            thisMin = thisMinCurr\n",
    "    minArr.append(thisMin)\n",
    "print(f\"minimums [x, y, z]: {minArr}\")\n"
   ]
  },
  {
   "cell_type": "markdown",
   "metadata": {},
   "source": [
    "## shift the pointcloud as close to the origin as possible \n",
    "## ie subtract the minimums from each dimension "
   ]
  },
  {
   "cell_type": "code",
   "execution_count": 4,
   "metadata": {},
   "outputs": [
    {
     "name": "stdout",
     "output_type": "stream",
     "text": [
      "shifted by subtracting the minimum vector\n",
      "[[6.60758815e-05 4.85440422e-01 2.47587331e-02]\n",
      " [1.76724861e-05 4.82059979e-01 2.34037095e-02]\n",
      " [1.03367766e-03 4.87154182e-01 2.46604713e-02]\n",
      " ...\n",
      " [3.24886606e-01 3.03986174e-01 6.96858966e-02]\n",
      " [1.41871267e-01 1.42510677e-01 1.08252963e-01]\n",
      " [3.24598684e-01 3.01450366e-01 6.93666827e-02]]\n"
     ]
    }
   ],
   "source": [
    "\n",
    "# make all values in minArr negative\n",
    "negMinArr = [-1 * minArr[0], -1 * minArr[1], -1 * minArr[2]]\n",
    "pcd.translate(negMinArr)\n",
    "print(\"shifted by subtracting the minimum vector\")\n",
    "print(np.asarray(pcd.points))\n"
   ]
  },
  {
   "cell_type": "code",
   "execution_count": 6,
   "metadata": {},
   "outputs": [
    {
     "data": {
      "application/vnd.jupyter.widget-view+json": {
       "model_id": "cf97bf3f07bf49ceb3a73808f8eb68d7",
       "version_major": 2,
       "version_minor": 0
      },
      "text/plain": [
       "JVisualizer with 1 geometries"
      ]
     },
     "metadata": {},
     "output_type": "display_data"
    }
   ],
   "source": [
    "# visualize the shifted pointcloud\n",
    "visualizer = JVisualizer()\n",
    "visualizer.add_geometry(pcd)\n",
    "visualizer.show()"
   ]
  },
  {
   "cell_type": "code",
   "execution_count": null,
   "metadata": {},
   "outputs": [],
   "source": []
  }
 ],
 "metadata": {
  "interpreter": {
   "hash": "6bcb19db60d66f9d62c34c6216b82f2056eb3d0b3cb7832f93ea766b2126bef6"
  },
  "kernelspec": {
   "display_name": "Python 3.8.13 ('pointcloud')",
   "language": "python",
   "name": "python3"
  },
  "language_info": {
   "codemirror_mode": {
    "name": "ipython",
    "version": 3
   },
   "file_extension": ".py",
   "mimetype": "text/x-python",
   "name": "python",
   "nbconvert_exporter": "python",
   "pygments_lexer": "ipython3",
   "version": "3.8.13"
  },
  "orig_nbformat": 4
 },
 "nbformat": 4,
 "nbformat_minor": 2
}
